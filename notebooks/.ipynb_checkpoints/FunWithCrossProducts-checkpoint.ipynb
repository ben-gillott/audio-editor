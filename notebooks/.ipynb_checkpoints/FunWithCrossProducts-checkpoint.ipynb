{
 "cells": [
  {
   "cell_type": "markdown",
   "metadata": {},
   "source": [
    "# Cross Products!\n",
    "\n",
    "### What you need to implement:\n"
   ]
  },
  {
   "cell_type": "markdown",
   "metadata": {},
   "source": [
    "### Imports:\n",
    "We will be using [drawSvg](https://github.com/cduck/drawSvg), which you can install with `pip install drawSvg`. \n",
    "The class `pointline.Canvas2D` is just a subclass of `drawSvg.Drawing` that I wrote to make life easier. You can look at how it is implemented in the source code."
   ]
  },
  {
   "cell_type": "code",
   "execution_count": 1,
   "metadata": {
    "ExecuteTime": {
     "end_time": "2021-05-02T17:33:21.964144Z",
     "start_time": "2021-05-02T17:33:20.838739Z"
    }
   },
   "outputs": [
    {
     "data": {
      "application/javascript": [
       "\n",
       "require.undef('drawingview');\n",
       "\n",
       "define('drawingview', ['@jupyter-widgets/base'], function(widgets) {\n",
       "    var DrawingView = widgets.DOMWidgetView.extend({\n",
       "        render: function() {\n",
       "            this.container = document.createElement('a');\n",
       "            this.image_changed();\n",
       "            this.container.appendChild(this.svg_view);\n",
       "            this.el.appendChild(this.container);\n",
       "            this.model.on('change:_image', this.image_changed, this);\n",
       "            this.model.on('change:_mousemove_blocked', this.block_changed,\n",
       "                          this);\n",
       "            this.model.on('change:frame_delay', this.delay_changed,\n",
       "                          this);\n",
       "            this.model.on('change:_frame_blocked', this.delay_changed,\n",
       "                          this);\n",
       "            this.model.on('change:disable', this.delay_changed,\n",
       "                          this);\n",
       "            this.delay_changed();\n",
       "        },\n",
       "        image_changed: function() {\n",
       "            this.container.innerHTML = this.model.get('_image');\n",
       "            this.svg_view = this.container.getElementsByTagName('svg')[0];\n",
       "            this.cursor_point = this.svg_view.createSVGPoint();\n",
       "            this.register_events();\n",
       "        },\n",
       "        last_move: null,\n",
       "        last_mousemove_blocked: null,\n",
       "        last_timer: null,\n",
       "        block_changed: function() {\n",
       "            var widget = this;\n",
       "            window.setTimeout(function() {\n",
       "                if (widget.model.get('_mousemove_blocked')\n",
       "                        != widget.last_mousemove_blocked && widget.last_move) {\n",
       "                    widget.send_mouse_event('mousemove', widget.last_move);\n",
       "                }\n",
       "            }, 0);\n",
       "        },\n",
       "        send_mouse_event: function(name, e) {\n",
       "            this.last_move = null;\n",
       "            if (this.model.get('disable')) {\n",
       "                return;\n",
       "            }\n",
       "\n",
       "            this.cursor_point.x = e.clientX;\n",
       "            this.cursor_point.y = e.clientY;\n",
       "            var svg_pt = this.cursor_point.matrixTransform(\n",
       "                            this.svg_view.getScreenCTM().inverse());\n",
       "\n",
       "            this.send({\n",
       "                name: name,\n",
       "                x: svg_pt.x,\n",
       "                y: -svg_pt.y,\n",
       "                type: e.type,\n",
       "                button: e.button,\n",
       "                buttons: e.buttons,\n",
       "                shiftKey: e.shiftKey,\n",
       "                altKey: e.altKey,\n",
       "                ctrlKey: e.ctrlKey,\n",
       "                metaKey: e.metaKey,\n",
       "                clientX: e.clientX,\n",
       "                clientY: e.clientY,\n",
       "                movementX: e.movementX,\n",
       "                movementY: e.movementY,\n",
       "                timeStamp: e.timeStamp,\n",
       "                targetId: e.target ? e.target.id : null,\n",
       "                currentTargetId: e.currentTarget ? e.currentTarget.id : null,\n",
       "                relatedTargetId: e.relatedTarget ? e.relatedTarget.id : null,\n",
       "            });\n",
       "        },\n",
       "        delay_changed: function() {\n",
       "            var widget = this;\n",
       "            window.clearTimeout(widget.last_timer);\n",
       "            if (widget.model.get('disable')) {\n",
       "                return;\n",
       "            }\n",
       "            var delay = widget.model.get('frame_delay');\n",
       "            if (delay > 0) {\n",
       "                widget.last_timer = window.setTimeout(function() {\n",
       "                    widget.send_timed_event('timed');\n",
       "                }, delay);\n",
       "            }\n",
       "        },\n",
       "        send_timed_event: function(name) {\n",
       "            if (this.model.get('disable')) {\n",
       "                return;\n",
       "            }\n",
       "\n",
       "            this.send({\n",
       "                name: name,\n",
       "            });\n",
       "        },\n",
       "        register_events: function() {\n",
       "            var widget = this;\n",
       "            this.svg_view.addEventListener('mousedown', function(e) {\n",
       "                e.preventDefault();\n",
       "                widget.send_mouse_event('mousedown', e);\n",
       "            });\n",
       "            this.svg_view.addEventListener('mousemove', function(e) {\n",
       "                e.preventDefault();\n",
       "                if (widget.model.get('_mousemove_blocked')\n",
       "                        == widget.last_mousemove_blocked) {\n",
       "                    widget.last_move = e;\n",
       "                } else {\n",
       "                    widget.send_mouse_event('mousemove', e);\n",
       "                }\n",
       "            });\n",
       "            this.svg_view.addEventListener('mouseup', function(e) {\n",
       "                e.preventDefault();\n",
       "                widget.send_mouse_event('mouseup', e);\n",
       "            });\n",
       "        }\n",
       "    });\n",
       "\n",
       "    return {\n",
       "        DrawingView: DrawingView\n",
       "    };\n",
       "});\n"
      ],
      "text/plain": [
       "<IPython.core.display.Javascript object>"
      ]
     },
     "metadata": {},
     "output_type": "display_data"
    }
   ],
   "source": [
    "from a3py.pointline import *\n",
    "import drawSvg as draw\n",
    "from drawSvg.widgets import DrawingWidget"
   ]
  },
  {
   "cell_type": "markdown",
   "metadata": {},
   "source": [
    "### Defines\n",
    "Let's define the width and height of our canvas and the radius of our points..."
   ]
  },
  {
   "cell_type": "code",
   "execution_count": 2,
   "metadata": {
    "ExecuteTime": {
     "end_time": "2021-05-02T17:33:21.968028Z",
     "start_time": "2021-05-02T17:33:21.965810Z"
    }
   },
   "outputs": [],
   "source": [
    "pointradius = 10;\n",
    "width = 1080;\n",
    "height = 720;"
   ]
  },
  {
   "cell_type": "markdown",
   "metadata": {},
   "source": [
    "### Create the drawing"
   ]
  },
  {
   "cell_type": "code",
   "execution_count": 3,
   "metadata": {
    "ExecuteTime": {
     "end_time": "2021-05-02T17:33:21.972154Z",
     "start_time": "2021-05-02T17:33:21.970137Z"
    }
   },
   "outputs": [],
   "source": [
    "drawing = Canvas2D(width=width,height=height);\n",
    "group = draw.Group()\n",
    "drawing.append(group)"
   ]
  },
  {
   "cell_type": "markdown",
   "metadata": {},
   "source": [
    "### Adding elements and saving drawings\n",
    "Example of how to add elements and save drawings. More details can be found in the [drawSvg repo on GitHub](https://github.com/cduck/drawSvg) "
   ]
  },
  {
   "cell_type": "code",
   "execution_count": 4,
   "metadata": {
    "ExecuteTime": {
     "end_time": "2021-05-02T17:33:22.040971Z",
     "start_time": "2021-05-02T17:33:21.973893Z"
    }
   },
   "outputs": [
    {
     "data": {
      "image/svg+xml": [
       "<?xml version=\"1.0\" encoding=\"UTF-8\"?>\n",
       "<svg xmlns=\"http://www.w3.org/2000/svg\" xmlns:xlink=\"http://www.w3.org/1999/xlink\"\n",
       "     width=\"1080\" height=\"720\" viewBox=\"0 -720 1080 720\">\n",
       "<defs>\n",
       "</defs>\n",
       "<text x=\"540.0\" y=\"-360.0\" font-size=\"80\" fill=\"green\" text-anchor=\"middle\"><tspan x=\"540.0\" dy=\"-0.09999999999999998em\">CS 6682</tspan><tspan x=\"540.0\" dy=\"1em\">is awesome</tspan></text>\n",
       "</svg>"
      ],
      "text/plain": [
       "<a3py.pointline.Canvas2D.Canvas2D at 0x7faa58456c10>"
      ]
     },
     "execution_count": 4,
     "metadata": {},
     "output_type": "execute_result"
    }
   ],
   "source": [
    "drawing.clear()\n",
    "drawing.append(\n",
    "    draw.Text(\"CS 6682\\nis awesome\", fontSize=80, x=width*0.5, y=height*0.5, center=True, fill='green')\n",
    ")\n",
    "drawing.saveSvg(\"../pointline_outputs/CS6682IsAwesome.svg\")\n",
    "drawing.savePng(\"../pointline_outputs/CS6682IsAwesome.png\")\n",
    "drawing"
   ]
  },
  {
   "cell_type": "markdown",
   "metadata": {},
   "source": [
    "## PointLine `Vec3` and `Canvas2D` classes...\n",
    "`pointline` is a small module I wrote to keep this assignment short. The main two classes you should be concerned with are `Vec3` and `Canvas2D`.\n",
    "- `Vec3` a 3D vector helper class that you will use to represent both homogeneous points and 2D line equations.\n",
    "- `Canvas2D` a subclass of `drawSvg.drawing` with special render calls that use `Vec3`.\n",
    "- You can use the helper function `P2D(x,y)` to create a Vec3 with homogeneous coordinate 1."
   ]
  },
  {
   "cell_type": "code",
   "execution_count": 5,
   "metadata": {
    "ExecuteTime": {
     "end_time": "2021-05-02T17:33:22.047791Z",
     "start_time": "2021-05-02T17:33:22.042432Z"
    }
   },
   "outputs": [
    {
     "data": {
      "image/svg+xml": [
       "<?xml version=\"1.0\" encoding=\"UTF-8\"?>\n",
       "<svg xmlns=\"http://www.w3.org/2000/svg\" xmlns:xlink=\"http://www.w3.org/1999/xlink\"\n",
       "     width=\"1080\" height=\"720\" viewBox=\"0 -720 1080 720\">\n",
       "<defs>\n",
       "</defs>\n",
       "<path d=\"M270.0,-180.0 L810.0,-540.0\" stroke=\"#7777ff\" stroke-width=\"3\" />\n",
       "<circle cx=\"270.0\" cy=\"-180.0\" r=\"15\" fill=\"#ff7777\" stroke=\"black\" />\n",
       "<text x=\"270.0\" y=\"-180.0\" font-size=\"15\" fill=\"black\" text-anchor=\"middle\" dy=\"0.5em\">A</text>\n",
       "<circle cx=\"810.0\" cy=\"-540.0\" r=\"15\" fill=\"#77ff77\" stroke=\"black\" />\n",
       "<text x=\"810.0\" y=\"-540.0\" font-size=\"15\" fill=\"black\" text-anchor=\"middle\" dy=\"0.5em\">B</text>\n",
       "</svg>"
      ],
      "text/plain": [
       "<a3py.pointline.Canvas2D.Canvas2D at 0x7faa58456c10>"
      ]
     },
     "execution_count": 5,
     "metadata": {},
     "output_type": "execute_result"
    }
   ],
   "source": [
    "drawing.clear();\n",
    "A = P2D(width*0.25,height*0.25);\n",
    "B = P2D(width*0.75,height*0.75);\n",
    "\n",
    "#draw the line from A to B\n",
    "drawing.drawLine(A,B, stroke='#7777ff', stroke_width=3);\n",
    "\n",
    "# drawing points A and B\n",
    "drawing.drawPoint(A, label='A', color='#ff7777');\n",
    "drawing.drawPoint(B, label='B', color='#77ff77');\n",
    "\n",
    "# adding this line will display the drawing in Jupyter\n",
    "drawing\n"
   ]
  },
  {
   "cell_type": "code",
   "execution_count": 6,
   "metadata": {
    "ExecuteTime": {
     "end_time": "2021-05-02T17:33:22.053901Z",
     "start_time": "2021-05-02T17:33:22.049496Z"
    }
   },
   "outputs": [
    {
     "data": {
      "image/svg+xml": [
       "<?xml version=\"1.0\" encoding=\"UTF-8\"?>\n",
       "<svg xmlns=\"http://www.w3.org/2000/svg\" xmlns:xlink=\"http://www.w3.org/1999/xlink\"\n",
       "     width=\"1080\" height=\"720\" viewBox=\"0 -720 1080 720\">\n",
       "<defs>\n",
       "</defs>\n",
       "<path d=\"M270.0,-180.0 L810.0,-540.0\" stroke=\"#7777ff\" stroke-width=\"3\" />\n",
       "<circle cx=\"270.0\" cy=\"-180.0\" r=\"15\" fill=\"#ff7777\" stroke=\"black\" />\n",
       "<text x=\"270.0\" y=\"-180.0\" font-size=\"15\" fill=\"black\" text-anchor=\"middle\" dy=\"0.5em\">A</text>\n",
       "<circle cx=\"810.0\" cy=\"-540.0\" r=\"15\" fill=\"#77ff77\" stroke=\"black\" />\n",
       "<text x=\"810.0\" y=\"-540.0\" font-size=\"15\" fill=\"black\" text-anchor=\"middle\" dy=\"0.5em\">B</text>\n",
       "<path d=\"M0.0,0.0 L1080.0,-720.0\" stroke=\"black\" stroke-dasharray=\"5 5 5\" />\n",
       "</svg>"
      ],
      "text/plain": [
       "<a3py.pointline.Canvas2D.Canvas2D at 0x7faa58456c10>"
      ]
     },
     "execution_count": 6,
     "metadata": {},
     "output_type": "execute_result"
    }
   ],
   "source": [
    "#Remember that we can calculate a line equation passing through two points by taking their cross product\n",
    "LineAB = A.cross(B);\n",
    "\n",
    "#let's draw the line passing through A and B as a dashed line\n",
    "drawing.drawLineEq(LineAB, stroke_dasharray = \"5 5 5\")\n",
    "\n",
    "drawing\n"
   ]
  },
  {
   "cell_type": "markdown",
   "metadata": {},
   "source": [
    "## Create circumcircles:\n"
   ]
  },
  {
   "cell_type": "code",
   "execution_count": 25,
   "metadata": {
    "ExecuteTime": {
     "end_time": "2021-05-02T17:33:22.058461Z",
     "start_time": "2021-05-02T17:33:22.055625Z"
    }
   },
   "outputs": [],
   "source": [
    "A1 = P2D(0.4*width,0.4*height);\n",
    "B1 = P2D(0.5*width,0.6*height);\n",
    "C1 = P2D(0.7*width,0.15*height);\n",
    "point_list = [A1,B1,C1];"
   ]
  },
  {
   "cell_type": "code",
   "execution_count": 26,
   "metadata": {},
   "outputs": [],
   "source": [
    "import numpy as np"
   ]
  },
  {
   "cell_type": "code",
   "execution_count": 57,
   "metadata": {
    "ExecuteTime": {
     "end_time": "2021-05-02T17:33:22.068034Z",
     "start_time": "2021-05-02T17:33:22.061589Z"
    }
   },
   "outputs": [
    {
     "data": {
      "image/svg+xml": [
       "<?xml version=\"1.0\" encoding=\"UTF-8\"?>\n",
       "<svg xmlns=\"http://www.w3.org/2000/svg\" xmlns:xlink=\"http://www.w3.org/1999/xlink\"\n",
       "     width=\"1080\" height=\"720\" viewBox=\"0 -720 1080 720\">\n",
       "<defs>\n",
       "</defs>\n",
       "<path d=\"M965.9999999999999,0.0 L6.000000000000017,-719.9999999999999\" stroke=\"#77ff77\" stroke-dasharray=\"2 2 2\" />\n",
       "<path d=\"M1080.0,-558.0000000000001 L242.99999999999997,0.0\" stroke=\"#77ff77\" stroke-dasharray=\"2 2 2\" />\n",
       "<path d=\"M484.0,0.0 L883.9999999999999,-720.0\" stroke=\"#77ff77\" stroke-dasharray=\"2 2 2\" />\n",
       "<path d=\"M432.0,-288.0 L540.0,-432.0\" stroke=\"blue\" />\n",
       "<path d=\"M540.0,-432.0 L756.0,-108.0\" stroke=\"blue\" />\n",
       "<path d=\"M756.0,-108.0 L432.0,-288.0\" stroke=\"blue\" />\n",
       "<circle cx=\"625.7647058823529\" cy=\"-255.17647058823533\" r=\"196.52517734051207\" stroke=\"#777777\" fill=\"none\" stroke-dasharray=\"5 5 5\" stroke-width=\"3\" />\n",
       "<circle cx=\"432.0\" cy=\"-288.0\" r=\"15\" fill=\"#77aaff\" stroke=\"black\" />\n",
       "<text x=\"432.0\" y=\"-288.0\" font-size=\"15\" fill=\"black\" text-anchor=\"middle\" dy=\"0.5em\">A</text>\n",
       "<circle cx=\"540.0\" cy=\"-432.0\" r=\"15\" fill=\"#77ffaa\" stroke=\"black\" />\n",
       "<text x=\"540.0\" y=\"-432.0\" font-size=\"15\" fill=\"black\" text-anchor=\"middle\" dy=\"0.5em\">B</text>\n",
       "<circle cx=\"756.0\" cy=\"-108.0\" r=\"15\" fill=\"#ffaaff\" stroke=\"black\" />\n",
       "<text x=\"756.0\" y=\"-108.0\" font-size=\"15\" fill=\"black\" text-anchor=\"middle\" dy=\"0.5em\">C</text>\n",
       "<circle cx=\"625.7647058823529\" cy=\"-255.17647058823533\" r=\"15\" fill=\"#888888\" stroke=\"black\" />\n",
       "<text x=\"625.7647058823529\" y=\"-255.17647058823533\" font-size=\"15\" fill=\"black\" text-anchor=\"middle\" dy=\"0.5em\">o</text>\n",
       "</svg>"
      ],
      "text/plain": [
       "<a3py.pointline.Canvas2D.Canvas2D at 0x7faa58456c10>"
      ]
     },
     "execution_count": 57,
     "metadata": {},
     "output_type": "execute_result"
    }
   ],
   "source": [
    "def vecMag(v):\n",
    "    return (v.x**2 + v.y**2);\n",
    "    \n",
    "def circumcenter(A,B,C):\n",
    "    '''\n",
    "    Calculate the circumcenter of points A, B, and C\n",
    "    '''\n",
    "#     Your code here\n",
    "    perpAB = perpBisect(A,B);\n",
    "    perpBC = perpBisect(B,C);\n",
    "    line = perpAB.cross(perpBC);\n",
    "    return line;\n",
    "\n",
    "def perpBisect2(P1,P2, canvas):\n",
    "\n",
    "    P1toP2 = P2 - P1;\n",
    "    midpoint = (P1toP2*.5) + P1;\n",
    "    \n",
    "    dy = P1.y - P2.y;\n",
    "    dx = P1.x - P2.x;\n",
    "    temp = P2D(0.7*width,0.15*height);\n",
    "    temp.x = midpoint.x + dy;\n",
    "    temp.y = midpoint.y - dx;\n",
    "    line = midpoint.cross(temp);\n",
    "    \n",
    "    canvas.drawPoint(midpoint, label='m', color='#77ffff');    \n",
    "    canvas.drawPoint(temp, label='t', color='#77ffff');\n",
    "    canvas.drawLineEq(line, stroke_dasharray = \"5 5 5\")\n",
    "    return line;\n",
    "   \n",
    "    \n",
    "def perpBisect(P1,P2):\n",
    "    '''\n",
    "    Calculate the perpendicular bisector line equation for points P1 and P2\n",
    "    '''\n",
    "    # Your code here\n",
    "    P1toP2 = P2 - P1;\n",
    "    midpoint = (P1toP2*.5) + P1;\n",
    "    \n",
    "    dy = P1.y - P2.y;\n",
    "    dx = P1.x - P2.x;\n",
    "    \n",
    "    temp = P2D(0.7*width,0.15*height);\n",
    "    temp.x = midpoint.x + dy;\n",
    "    temp.y = midpoint.y - dx;\n",
    "    \n",
    "    line = midpoint.cross(temp);\n",
    "    \n",
    "    return line;\n",
    "\n",
    "def drawCircumCircleVis(canvas, points):\n",
    "    canvas.clear();\n",
    "    A = points[0];\n",
    "    B = points[1];\n",
    "    C = points[2];\n",
    "    \n",
    "    #Custom Testing\n",
    "#     temp = perpBisect2(A,B,canvas);\n",
    "#     temp = perpBisect2(B,C,canvas);\n",
    "#     temp = perpBisect2(C,A,canvas);\n",
    "    \n",
    "    \n",
    "    \n",
    "    center = circumcenter(A,B,C);\n",
    "    mAB = perpBisect(A,B);\n",
    "    mBC = perpBisect(B,C);\n",
    "    mAC = perpBisect(A,C);\n",
    "\n",
    "    bisector_attributes = dict(stroke_dasharray = \"2 2 2\", stroke = '#77ff77');\n",
    "    canvas.drawLineEq(mAB, **bisector_attributes);\n",
    "    canvas.drawLineEq(mBC, **bisector_attributes);\n",
    "    canvas.drawLineEq(mAC, **bisector_attributes);\n",
    "\n",
    "    triangle_attributes = dict(stroke='blue');\n",
    "    canvas.drawLine(A,B, **triangle_attributes);\n",
    "    canvas.drawLine(B,C, **triangle_attributes);\n",
    "    canvas.drawLine(C,A, **triangle_attributes);\n",
    "    \n",
    "    circle_attributes = dict(stroke_dasharray = \"5 5 5\", stroke = '#777777', stroke_width=3);\n",
    "    canvas.drawCircle(center, Dist2D(A,center), **circle_attributes)\n",
    "    \n",
    "    canvas.drawPoint(A, label='A', color='#77aaff');\n",
    "    canvas.drawPoint(B, label='B', color = '#77ffaa');\n",
    "    canvas.drawPoint(C, label='C', color='#ffaaff');\n",
    "    canvas.drawPoint(center, label='o', color='#888888');\n",
    "    \n",
    "drawCircumCircleVis(drawing, point_list);\n",
    "drawing"
   ]
  },
  {
   "cell_type": "markdown",
   "metadata": {
    "ExecuteTime": {
     "end_time": "2021-05-01T23:50:55.029444Z",
     "start_time": "2021-05-01T23:50:55.026224Z"
    }
   },
   "source": [
    "### What results should look like:\n",
    "If you call the following code:\n",
    "```\n",
    "drawCircumCircleVis(drawing, point_list);\n",
    "drawing\n",
    "```\n",
    "You should get this:\n",
    "!['./exampleCircumCircle.png'](./exampleCircumCircle.png)\n",
    "    "
   ]
  },
  {
   "cell_type": "code",
   "execution_count": 58,
   "metadata": {
    "ExecuteTime": {
     "end_time": "2021-05-02T17:33:22.300880Z",
     "start_time": "2021-05-02T17:33:22.071311Z"
    }
   },
   "outputs": [
    {
     "data": {
      "image/svg+xml": [
       "<?xml version=\"1.0\" encoding=\"UTF-8\"?>\n",
       "<svg xmlns=\"http://www.w3.org/2000/svg\" xmlns:xlink=\"http://www.w3.org/1999/xlink\"\n",
       "     width=\"1080\" height=\"720\" viewBox=\"0 -720 1080 720\">\n",
       "<defs>\n",
       "</defs>\n",
       "<path d=\"M965.9999999999999,0.0 L6.000000000000017,-719.9999999999999\" stroke=\"#77ff77\" stroke-dasharray=\"2 2 2\" />\n",
       "<path d=\"M1080.0,-558.0000000000001 L242.99999999999997,0.0\" stroke=\"#77ff77\" stroke-dasharray=\"2 2 2\" />\n",
       "<path d=\"M484.0,0.0 L883.9999999999999,-720.0\" stroke=\"#77ff77\" stroke-dasharray=\"2 2 2\" />\n",
       "<path d=\"M432.0,-288.0 L540.0,-432.0\" stroke=\"blue\" />\n",
       "<path d=\"M540.0,-432.0 L756.0,-108.0\" stroke=\"blue\" />\n",
       "<path d=\"M756.0,-108.0 L432.0,-288.0\" stroke=\"blue\" />\n",
       "<circle cx=\"625.7647058823529\" cy=\"-255.17647058823533\" r=\"196.52517734051207\" stroke=\"#777777\" fill=\"none\" stroke-dasharray=\"5 5 5\" stroke-width=\"3\" />\n",
       "<circle cx=\"432.0\" cy=\"-288.0\" r=\"15\" fill=\"#77aaff\" stroke=\"black\" />\n",
       "<text x=\"432.0\" y=\"-288.0\" font-size=\"15\" fill=\"black\" text-anchor=\"middle\" dy=\"0.5em\">A</text>\n",
       "<circle cx=\"540.0\" cy=\"-432.0\" r=\"15\" fill=\"#77ffaa\" stroke=\"black\" />\n",
       "<text x=\"540.0\" y=\"-432.0\" font-size=\"15\" fill=\"black\" text-anchor=\"middle\" dy=\"0.5em\">B</text>\n",
       "<circle cx=\"756.0\" cy=\"-108.0\" r=\"15\" fill=\"#ffaaff\" stroke=\"black\" />\n",
       "<text x=\"756.0\" y=\"-108.0\" font-size=\"15\" fill=\"black\" text-anchor=\"middle\" dy=\"0.5em\">C</text>\n",
       "<circle cx=\"625.7647058823529\" cy=\"-255.17647058823533\" r=\"15\" fill=\"#888888\" stroke=\"black\" />\n",
       "<text x=\"625.7647058823529\" y=\"-255.17647058823533\" font-size=\"15\" fill=\"black\" text-anchor=\"middle\" dy=\"0.5em\">o</text>\n",
       "</svg>"
      ],
      "text/plain": [
       "<a3py.pointline.Canvas2D.Canvas2D at 0x7faa58456c10>"
      ]
     },
     "execution_count": 58,
     "metadata": {},
     "output_type": "execute_result"
    }
   ],
   "source": [
    "drawCircumCircleVis(drawing, point_list);\n",
    "drawing"
   ]
  },
  {
   "cell_type": "markdown",
   "metadata": {},
   "source": [
    "## Testing your code Interactively\n",
    "I encourage you to test your code with the drawSvg widget functionality. Run the code below and you should be able to see the circumcircle visualization rendered, and you should be able to click and drag your points and see the svg update."
   ]
  },
  {
   "cell_type": "code",
   "execution_count": 59,
   "metadata": {
    "ExecuteTime": {
     "end_time": "2021-05-02T17:33:22.307785Z",
     "start_time": "2021-05-02T17:33:20.847Z"
    },
    "scrolled": false
   },
   "outputs": [
    {
     "data": {
      "application/vnd.jupyter.widget-view+json": {
       "model_id": "56ae08151a094c73978469c3e7d47f06",
       "version_major": 2,
       "version_minor": 0
      },
      "text/plain": [
       "DrawingWidget()"
      ]
     },
     "metadata": {},
     "output_type": "display_data"
    }
   ],
   "source": [
    "def redrawCircumcircleWidget(points):\n",
    "    drawing.clear();\n",
    "    drawCircumCircleVis(drawing, points)       \n",
    "\n",
    "redrawCircumcircleWidget(point_list)\n",
    "# Create interactive widget and register mouse events\n",
    "circumcircle_widget = DrawingWidget(drawing)\n",
    "circumcircle_widget.grabpoint = None;\n",
    "@circumcircle_widget.mousedown\n",
    "def mousedown(widget, x, y, info):\n",
    "    clickpoint = Vec3(x,y,1);\n",
    "    for p in range(len(point_list)):\n",
    "        if(Dist2D(clickpoint, point_list[p])<(pointradius)):\n",
    "            widget.grabpoint = p;\n",
    "            break;\n",
    "    redrawCircumcircleWidget(point_list)\n",
    "    widget.refresh()\n",
    "@circumcircle_widget.mousemove\n",
    "def mousemove(widget, x, y, info):\n",
    "    if(widget.grabpoint is not None):\n",
    "        point_list[widget.grabpoint].x = x;\n",
    "        point_list[widget.grabpoint].y = y;\n",
    "        redrawCircumcircleWidget(point_list)\n",
    "        widget.refresh()\n",
    "@circumcircle_widget.mouseup\n",
    "def mouseup(widget, x, y, info):\n",
    "    widget.grabpoint = None;\n",
    "    redrawCircumcircleWidget(point_list)\n",
    "    widget.refresh()\n",
    "\n",
    "circumcircle_widget"
   ]
  },
  {
   "cell_type": "code",
   "execution_count": null,
   "metadata": {},
   "outputs": [],
   "source": []
  },
  {
   "cell_type": "markdown",
   "metadata": {},
   "source": [
    "# What to turn in\n",
    "Run the code below and it will generate and save a few sample circumcircle diagrams in `../pointline_outputs/`. Zip up this directory and turn it in as a separate file (you should also still submit your code zip)."
   ]
  },
  {
   "cell_type": "code",
   "execution_count": 60,
   "metadata": {
    "ExecuteTime": {
     "end_time": "2021-05-02T17:33:22.309057Z",
     "start_time": "2021-05-02T17:33:20.849Z"
    }
   },
   "outputs": [],
   "source": [
    "point_lists = [\n",
    "    [\n",
    "        P2D(0.1*width,0.5*height),\n",
    "        P2D(0.7*width,0.1*height),\n",
    "        P2D(0.3*width,0.5*height),\n",
    "    ],\n",
    "    [\n",
    "        P2D(0.4*width,0.6*height),\n",
    "        P2D(0.4*width,0.7*height),\n",
    "        P2D(0.7*width,0.5*height),\n",
    "    ],\n",
    "    [\n",
    "        P2D(0.4*width,0.4*height),\n",
    "        P2D(0.5*width,0.5*height),\n",
    "        P2D(0.6*width,0.4*height),\n",
    "    ],\n",
    "];\n",
    "    \n",
    "for i, plist in enumerate(point_lists):\n",
    "    drawCircumCircleVis(drawing, plist);\n",
    "    drawing.saveSvg(\"../pointline_outputs/test_circumcircle{}.svg\".format(i));\n",
    "    drawing.savePng(\"../pointline_outputs/test_circumcircle{}.png\".format(i));\n",
    "    \n"
   ]
  },
  {
   "cell_type": "code",
   "execution_count": null,
   "metadata": {},
   "outputs": [],
   "source": []
  },
  {
   "cell_type": "code",
   "execution_count": null,
   "metadata": {},
   "outputs": [],
   "source": []
  },
  {
   "cell_type": "code",
   "execution_count": null,
   "metadata": {},
   "outputs": [],
   "source": []
  }
 ],
 "metadata": {
  "kernelspec": {
   "display_name": "6682Env",
   "language": "python",
   "name": "6682env"
  },
  "language_info": {
   "codemirror_mode": {
    "name": "ipython",
    "version": 3
   },
   "file_extension": ".py",
   "mimetype": "text/x-python",
   "name": "python",
   "nbconvert_exporter": "python",
   "pygments_lexer": "ipython3",
   "version": "3.8.5"
  },
  "varInspector": {
   "cols": {
    "lenName": 16,
    "lenType": 16,
    "lenVar": 40
   },
   "kernels_config": {
    "python": {
     "delete_cmd_postfix": "",
     "delete_cmd_prefix": "del ",
     "library": "var_list.py",
     "varRefreshCmd": "print(var_dic_list())"
    },
    "r": {
     "delete_cmd_postfix": ") ",
     "delete_cmd_prefix": "rm(",
     "library": "var_list.r",
     "varRefreshCmd": "cat(var_dic_list()) "
    }
   },
   "types_to_exclude": [
    "module",
    "function",
    "builtin_function_or_method",
    "instance",
    "_Feature"
   ],
   "window_display": false
  }
 },
 "nbformat": 4,
 "nbformat_minor": 4
}
