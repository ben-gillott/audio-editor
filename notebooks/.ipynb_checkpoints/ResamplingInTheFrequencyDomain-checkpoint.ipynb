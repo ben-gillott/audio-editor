{
 "cells": [
  {
   "cell_type": "code",
   "execution_count": 1,
   "id": "1e200ffb",
   "metadata": {
    "ExecuteTime": {
     "end_time": "2021-05-03T02:42:58.584157Z",
     "start_time": "2021-05-03T02:42:58.201272Z"
    }
   },
   "outputs": [],
   "source": [
    "import scipy.fft\n",
    "import numpy as np\n",
    "import matplotlib.pyplot as plt"
   ]
  },
  {
   "cell_type": "markdown",
   "id": "59e0ae15",
   "metadata": {},
   "source": [
    "# Resampling in the Frequency Domain\n",
    "**For this part of the assignment you may not import anything other than what is imported above!**\n",
    "\n",
    "Your task will be to implement `Signal.GetResampledToLength` in the class below. `Signal.GetResampledToLength` should resample the signal by taking its fft, adding or removing zeros, and then taking its ifft. Functions you will want to use:\n",
    "- [scipy.fft.fft](https://docs.scipy.org/doc/scipy/reference/generated/scipy.fft.fft.html)\n",
    "- [scipy.fft.ifft](https://docs.scipy.org/doc/scipy/reference/generated/scipy.fft.ifft.html)\n",
    "- [scipy.fft.fftshift](https://scipy.github.io/devdocs/reference/generated/scipy.fft.fftshift.html)\n",
    "- [scipy.fft.ifftshift](https://scipy.github.io/devdocs/reference/generated/scipy.fft.ifftshift.html)\n",
    "- [numpy.pad](https://numpy.org/doc/stable/reference/generated/numpy.pad.html)\n",
    "\n",
    "Do NOT use any pre-written resampling functions!"
   ]
  },
  {
   "cell_type": "markdown",
   "id": "55e39ead",
   "metadata": {},
   "source": [
    "## A Simple `Signal` class"
   ]
  },
  {
   "cell_type": "code",
   "execution_count": 2,
   "id": "d7669085",
   "metadata": {
    "ExecuteTime": {
     "end_time": "2021-05-03T02:42:58.619308Z",
     "start_time": "2021-05-03T02:42:58.586165Z"
    }
   },
   "outputs": [],
   "source": [
    "class Signal(object):\n",
    "    def __init__(self, samples, sampling_rate):\n",
    "        self.samples = samples;\n",
    "        self.sampling_rate = sampling_rate;\n",
    "    \n",
    "    @property\n",
    "    def n_samples(self):\n",
    "        return len(self.samples);\n",
    "    @property\n",
    "    def sample_duration(self):\n",
    "        return np.true_divide(1.0, self.sampling_rate);\n",
    "    @property\n",
    "    def duration(self):\n",
    "        return self.n_samples*self.sample_duration;\n",
    "    @property\n",
    "    def times(self):\n",
    "        return np.linspace(0,self.duration,int(self.n_samples), endpoint=False); # endpoint false since we are starting at t=0\n",
    "    \n",
    "    def plot(self, title=None):\n",
    "        plt.plot(self.times, self.samples);\n",
    "        plt.xlabel('Time (seconds)\\n[Sampling Rate: {} Hz]'.format(self.sampling_rate));\n",
    "        plt.ylabel('Value');\n",
    "        if(not (title is None)):\n",
    "            plt.title(title);\n",
    "            \n",
    "            \n",
    "    def scatter(self, title=None):\n",
    "        plt.scatter(self.times, self.samples, color='red');\n",
    "        plt.xlabel('Time (seconds)\\n[Sampling Rate: {} Hz]'.format(self.sampling_rate));\n",
    "        plt.ylabel('Value');\n",
    "        if(not (title is None)):\n",
    "            plt.title(title);\n",
    "        \n",
    "    @property\n",
    "    def fft_freqs(self):\n",
    "        return scipy.fft.fftfreq(self.n_samples)*self.sampling_rate\n",
    "        \n",
    "    def plotFFT(self, title=None):\n",
    "        fft_vals = scipy.fft.fft(self.samples);\n",
    "        fft_freqs = self.fft_freqs;\n",
    "        \n",
    "        # you need to shift the fft to get the DC component in the middle of the array\n",
    "        fft_vals = scipy.fft.fftshift(fft_vals);\n",
    "        fft_freqs = scipy.fft.fftshift(fft_freqs);\n",
    "        \n",
    "        plt.plot(fft_freqs, np.abs(fft_vals))\n",
    "        plt.xlabel('Frequency (Hz)\\n[Sampling Rate: {} Hz]'.format(self.sampling_rate));\n",
    "        plt.ylabel('Magnitude');\n",
    "        if(not (title is None)):\n",
    "            plt.title(title);\n",
    "\n",
    "\n",
    "            \n",
    "    def GetResampledToLength(self, new_length):\n",
    "        # Resample by cropping or padding the fft with zeros         \n",
    "        # Note: you will want to use the function scipy.fft.fftshift\n",
    "        ###### To make life easier, we will only change by even amounts...\n",
    "        n_pad=new_length-self.n_samples;\n",
    "        assert(n_pad%2 == 0), \"must resample by even number of samples. Requested {}\".format(n_pad);\n",
    "        ######\n",
    "\n",
    "        # delete this error and implement resampling in the frequency domain\n",
    "        raise NotImplementedError;\n",
    "        \n",
    "        # Your code here\n",
    "        # return Signal(samples=new_samples, sampling_rate = new_sampling_rate);\n"
   ]
  },
  {
   "cell_type": "markdown",
   "id": "e0e18bf5",
   "metadata": {},
   "source": [
    "### Let's test our class on a simple cosine wave..."
   ]
  },
  {
   "cell_type": "code",
   "execution_count": null,
   "id": "02ef20e5",
   "metadata": {
    "ExecuteTime": {
     "end_time": "2021-05-03T02:42:58.626708Z",
     "start_time": "2021-05-03T02:42:58.621642Z"
    }
   },
   "outputs": [],
   "source": [
    "def newfig():\n",
    "    plt.figure(figsize=(12,3));\n",
    "\n",
    "# let's define a function to sample\n",
    "def func(times):\n",
    "    return np.cos(times*2*np.pi*frequency)\n",
    "\n",
    "duration = 4;\n",
    "sampling_rate = 15;\n",
    "frequency = 1.25;\n",
    "\n",
    "times = np.linspace(0,duration,int(duration*sampling_rate), endpoint=False); # endpoint false since we are starting at t=0\n",
    "signal = Signal(func(times), sampling_rate);\n",
    "\n",
    "high_sampling_rate = sampling_rate*100;\n",
    "dense_times = np.linspace(0,duration,duration*high_sampling_rate, endpoint=False); # endpoint false since we are starting at t=0\n",
    "gt_signal = Signal(func(dense_times), high_sampling_rate);"
   ]
  },
  {
   "cell_type": "code",
   "execution_count": null,
   "id": "653b1761",
   "metadata": {
    "ExecuteTime": {
     "end_time": "2021-05-03T02:42:59.015512Z",
     "start_time": "2021-05-03T02:42:58.629105Z"
    }
   },
   "outputs": [],
   "source": [
    "newfig();\n",
    "gt_signal.plot();\n",
    "signal.scatter(\"Continuous Signal with Samples\")\n",
    "\n",
    "newfig();\n",
    "signal.plot(\"Sampled Signal\")\n",
    "newfig();\n",
    "signal.plotFFT(\"Original FFT\")"
   ]
  },
  {
   "cell_type": "code",
   "execution_count": null,
   "id": "be579f05",
   "metadata": {
    "ExecuteTime": {
     "end_time": "2021-05-03T02:42:59.020038Z",
     "start_time": "2021-05-03T02:42:59.017197Z"
    }
   },
   "outputs": [],
   "source": [
    "def displayResampledToLength(signal, resampled_length):\n",
    "    newfig();\n",
    "    signal.plot(\"Original Sampled Signal\")\n",
    "    newfig();\n",
    "    nsig = signal.GetResampledToLength(resampled_length);\n",
    "    nsig.plot();\n",
    "    nsig.scatter('Downsampled to {} samples'.format(nsig.n_samples));\n",
    "    newfig()\n",
    "    nsig.plotFFT();\n",
    "    plt.show()"
   ]
  },
  {
   "cell_type": "markdown",
   "id": "9604a474",
   "metadata": {},
   "source": [
    "### Now let's use `GetResampledToLength` to resample to some different lengths..."
   ]
  },
  {
   "cell_type": "code",
   "execution_count": null,
   "id": "a2362379",
   "metadata": {
    "ExecuteTime": {
     "end_time": "2021-05-03T02:42:59.251609Z",
     "start_time": "2021-05-03T02:42:59.021355Z"
    }
   },
   "outputs": [],
   "source": [
    "displayResampledToLength(signal, 20)"
   ]
  },
  {
   "cell_type": "code",
   "execution_count": null,
   "id": "1990ceb7",
   "metadata": {
    "ExecuteTime": {
     "end_time": "2021-05-03T02:42:59.254765Z",
     "start_time": "2021-05-03T02:42:58.206Z"
    }
   },
   "outputs": [],
   "source": [
    "displayResampledToLength(signal, 200)"
   ]
  },
  {
   "cell_type": "code",
   "execution_count": null,
   "id": "f6f23272",
   "metadata": {},
   "outputs": [],
   "source": []
  },
  {
   "cell_type": "code",
   "execution_count": null,
   "id": "e04f0ecb",
   "metadata": {
    "ExecuteTime": {
     "end_time": "2021-05-03T02:42:59.255858Z",
     "start_time": "2021-05-03T02:42:58.208Z"
    }
   },
   "outputs": [],
   "source": [
    "duration = 4;\n",
    "sampling_rate = 15;\n",
    "frequencies = [1.25, 2, 3];\n",
    "\n",
    "# let's define a function to sample\n",
    "def func2(times):\n",
    "    rvals = np.zeros(len(times))\n",
    "    for f in frequencies:\n",
    "        rvals = rvals+np.cos(times*2*np.pi*f);\n",
    "    return rvals;\n",
    "\n",
    "times = np.linspace(0,duration,int(duration*sampling_rate), endpoint=False); # endpoint false since we are starting at t=0\n",
    "signal = Signal(func2(times), sampling_rate);\n",
    "\n",
    "high_sampling_rate = sampling_rate*100;\n",
    "dense_times = np.linspace(0,duration,duration*high_sampling_rate, endpoint=False); # endpoint false since we are starting at t=0\n",
    "gt_signal = Signal(func2(dense_times), high_sampling_rate);\n",
    "\n",
    "\n",
    "newfig();\n",
    "gt_signal.plot();\n",
    "signal.scatter(\"Continuous Signal with Samples\")\n",
    "\n",
    "newfig();\n",
    "signal.plot(\"Sampled Signal\")\n",
    "newfig();\n",
    "signal.plotFFT(\"Original FFT\")"
   ]
  },
  {
   "cell_type": "code",
   "execution_count": null,
   "id": "26922c95",
   "metadata": {
    "ExecuteTime": {
     "end_time": "2021-05-03T02:42:59.256807Z",
     "start_time": "2021-05-03T02:42:58.209Z"
    },
    "scrolled": false
   },
   "outputs": [],
   "source": [
    "def displayResampledToLengthRow(signal, resampled_length):\n",
    "    newfig();\n",
    "    nsig = signal.GetResampledToLength(resampled_length);\n",
    "    nsig.plot();\n",
    "    if(nsig.n_samples<signal.n_samples):\n",
    "        nsig.scatter('Downsampled to {} samples'.format(nsig.n_samples));\n",
    "    elif(nsig.n_samples>signal.n_samples):\n",
    "        nsig.scatter('Upsampled to {} samples'.format(nsig.n_samples));\n",
    "    else:\n",
    "        nsig.scatter('{} samples'.format(nsig.n_samples));\n",
    "\n",
    "    \n",
    "newfig();\n",
    "gt_signal.plot(\"Ground Truth\");\n",
    "\n",
    "displayResampledToLengthRow(signal, signal.n_samples)\n",
    "displayResampledToLengthRow(signal, signal.n_samples*0.5)\n",
    "displayResampledToLengthRow(signal, signal.n_samples*2)\n",
    "displayResampledToLengthRow(signal, signal.n_samples*4)\n"
   ]
  },
  {
   "cell_type": "markdown",
   "id": "ee28c98b",
   "metadata": {},
   "source": [
    "# What to hand in:\n",
    "There is a copy of this notebook in [./ResamplingInTheFrequencyDomain_Submit.ipynb](./ResamplingInTheFrequencyDomain_Submit). Copy your implementation of `Signal` into that notebook, run the entire thing, and export the result as HTML. Open it up to make sure you can see your code and all of the generated figures. Submit the HTML on CMS."
   ]
  },
  {
   "cell_type": "code",
   "execution_count": null,
   "id": "a6cee51b",
   "metadata": {},
   "outputs": [],
   "source": []
  }
 ],
 "metadata": {
  "kernelspec": {
   "display_name": "6682Env",
   "language": "python",
   "name": "6682env"
  },
  "language_info": {
   "codemirror_mode": {
    "name": "ipython",
    "version": 3
   },
   "file_extension": ".py",
   "mimetype": "text/x-python",
   "name": "python",
   "nbconvert_exporter": "python",
   "pygments_lexer": "ipython3",
   "version": "3.8.5"
  },
  "varInspector": {
   "cols": {
    "lenName": 16,
    "lenType": 16,
    "lenVar": 40
   },
   "kernels_config": {
    "python": {
     "delete_cmd_postfix": "",
     "delete_cmd_prefix": "del ",
     "library": "var_list.py",
     "varRefreshCmd": "print(var_dic_list())"
    },
    "r": {
     "delete_cmd_postfix": ") ",
     "delete_cmd_prefix": "rm(",
     "library": "var_list.r",
     "varRefreshCmd": "cat(var_dic_list()) "
    }
   },
   "types_to_exclude": [
    "module",
    "function",
    "builtin_function_or_method",
    "instance",
    "_Feature"
   ],
   "window_display": false
  }
 },
 "nbformat": 4,
 "nbformat_minor": 5
}
